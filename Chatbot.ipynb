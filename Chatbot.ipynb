{
 "cells": [
  {
   "cell_type": "code",
   "execution_count": 1,
   "metadata": {},
   "outputs": [],
   "source": [
    "# pip install langchain_community"
   ]
  },
  {
   "cell_type": "code",
   "execution_count": 2,
   "metadata": {},
   "outputs": [],
   "source": [
    "# pip install langchain"
   ]
  },
  {
   "cell_type": "code",
   "execution_count": 3,
   "metadata": {},
   "outputs": [],
   "source": [
    "# pip install langchain_groq"
   ]
  },
  {
   "cell_type": "code",
   "execution_count": 4,
   "metadata": {},
   "outputs": [],
   "source": [
    "# pip install sentence_transformers"
   ]
  },
  {
   "cell_type": "code",
   "execution_count": 5,
   "metadata": {},
   "outputs": [],
   "source": [
    "# pip install faiss-cpu"
   ]
  },
  {
   "cell_type": "code",
   "execution_count": 1,
   "metadata": {},
   "outputs": [
    {
     "name": "stdout",
     "output_type": "stream",
     "text": [
      "Total Documents Loaded: 5000\n"
     ]
    },
    {
     "name": "stderr",
     "output_type": "stream",
     "text": [
      "C:\\Users\\arpit\\AppData\\Local\\Temp\\ipykernel_9244\\3351171350.py:30: LangChainDeprecationWarning: The class `HuggingFaceEmbeddings` was deprecated in LangChain 0.2.2 and will be removed in 1.0. An updated version of the class exists in the :class:`~langchain-huggingface package and should be used instead. To use it run `pip install -U :class:`~langchain-huggingface` and import as `from :class:`~langchain_huggingface import HuggingFaceEmbeddings``.\n",
      "  embedding_model = HuggingFaceEmbeddings(model_name=\"sentence-transformers/all-MiniLM-L6-v2\")\n",
      "C:\\Users\\arpit\\AppData\\Local\\Packages\\PythonSoftwareFoundation.Python.3.10_qbz5n2kfra8p0\\LocalCache\\local-packages\\Python310\\site-packages\\tqdm\\auto.py:21: TqdmWarning: IProgress not found. Please update jupyter and ipywidgets. See https://ipywidgets.readthedocs.io/en/stable/user_install.html\n",
      "  from .autonotebook import tqdm as notebook_tqdm\n"
     ]
    }
   ],
   "source": [
    "import json\n",
    "import os\n",
    "from langchain_community.vectorstores import FAISS\n",
    "from langchain.embeddings import HuggingFaceEmbeddings\n",
    "from langchain.chains import RetrievalQA\n",
    "from langchain.document_loaders import JSONLoader\n",
    "from langchain.text_splitter import RecursiveCharacterTextSplitter\n",
    "from langchain.schema import Document\n",
    "from langchain_groq import ChatGroq\n",
    "\n",
    "# Load JSONL Data\n",
    "data_file = \"Bigdata.jsonl\"\n",
    "documents = []\n",
    "\n",
    "with open(data_file, \"r\", encoding=\"utf-8\") as f:\n",
    "    for i, line in enumerate(f):\n",
    "        try:\n",
    "            doc = json.loads(line.strip())  # Parse JSON\n",
    "            \n",
    "            if \"prompt\" in doc and \"completion\" in doc:\n",
    "                content = f\"Q: {doc['prompt']}\\nA: {doc['completion']}\"\n",
    "                documents.append(Document(page_content=content, metadata={}))\n",
    "\n",
    "        except json.JSONDecodeError as e:\n",
    "            print(f\"Skipping invalid JSON line {i}: {e}\")\n",
    "\n",
    "print(f\"Total Documents Loaded: {len(documents)}\")\n",
    "\n",
    "# Initialize Embeddings Model\n",
    "embedding_model = HuggingFaceEmbeddings(model_name=\"sentence-transformers/all-MiniLM-L6-v2\")\n",
    "\n",
    "# Text Splitting\n",
    "text_splitter = RecursiveCharacterTextSplitter(chunk_size=512, chunk_overlap=64)\n",
    "split_docs = text_splitter.split_documents(documents)\n",
    "\n",
    "# Create FAISS Vector Store\n",
    "vectorstore = FAISS.from_documents(split_docs, embedding=embedding_model)\n",
    "\n",
    "# Initialize Groq LLM\n",
    "groq_api_key = os.getenv(\"GROQ_API_KEY\")"
   ]
  },
  {
   "cell_type": "code",
   "execution_count": 2,
   "metadata": {},
   "outputs": [
    {
     "name": "stderr",
     "output_type": "stream",
     "text": [
      "C:\\Users\\arpit\\AppData\\Local\\Temp\\ipykernel_1380\\3147163430.py:12: LangChainDeprecationWarning: The method `Chain.run` was deprecated in langchain 0.1.0 and will be removed in 1.0. Use :meth:`~invoke` instead.\n",
      "  return qa_chain.run(query)\n"
     ]
    },
    {
     "name": "stdout",
     "output_type": "stream",
     "text": [
      "<think>\n",
      "Okay, so I need to figure out how to answer the question about coconut fruit drop. Let me start by looking at the context provided.\n",
      "\n",
      "First, I see that the problem of immature fruit drop in coconuts can be effectively controlled. That's good news. The context mentions that by taking certain steps, one can reduce fruit drop and improve yield and quality. \n",
      "\n",
      "Looking at the Q&A sections, the first Q&A says that coconut fruit drop is caused by various reasons like nutritional deficiencies, pests, diseases, and unsuitable climate. The advice given is to apply boron fertilizer—50 grams per tree to improve fruit quality and reduce falling.\n",
      "\n",
      "The second Q&A is about premature fruit drop. It suggests applying 25 grams of borax along with cow dung around the trunk of each tree. This is said to help reduce fruit falling.\n",
      "\n",
      "The third Q&A is similar to the first two, asking about premature fruit drop and getting the same advice as the second.\n",
      "\n",
      "So, the user is asking, \"Any advice on coconut fruit drop?\" I need to consolidate this information. \n",
      "\n",
      "I should mention that fruit drop can be due to multiple factors and then provide the two main solutions: using boron fertilizer and borax with cow dung. I should present them as numbered points for clarity. \n",
      "\n",
      "I should make sure to specify the quantities and methods of application. Also, perhaps mention that these steps can help improve yield and quality, as indicated in the context.\n",
      "\n",
      "Wait, in the first Q&A, it's 50 grams of boron fertilizer, and in the second, it's 25 grams of borax plus cow dung. So I need to include both methods as separate points.\n",
      "\n",
      "I should structure the answer to first explain the possible causes, then list the solutions. Keeping it concise but informative.\n",
      "\n",
      "I think that's all. Let me put it together.\n",
      "</think>\n",
      "\n",
      "Coconut fruit drop can be caused by various factors such as nutritional deficiencies, pests, diseases, and unsuitable climatic conditions. To address this issue, consider the following solutions:\n",
      "\n",
      "1. **Apply Boron Fertilizer**: Use 50 grams of boron fertilizer per tree to help improve fruit quality and reduce premature dropping.\n",
      "\n",
      "2. **Use Borax and Cow Dung**: Sprinkle 25 grams of borax along with an appropriate amount of cow dung around the base of each tree. This method can also help mitigate fruit drop.\n",
      "\n",
      "These steps may help enhance yield and quality.\n"
     ]
    }
   ],
   "source": [
    "llm = ChatGroq(model_name=\"deepseek-r1-distill-llama-70b\", api_key=groq_api_key)\n",
    "\n",
    "# RetrievalQA Chain\n",
    "qa_chain = RetrievalQA.from_chain_type(\n",
    "    llm=llm,\n",
    "    chain_type=\"stuff\",\n",
    "    retriever=vectorstore.as_retriever(search_type=\"similarity\", search_kwargs={\"k\": 5})\n",
    ")\n",
    "\n",
    "# Chatbot Function\n",
    "def chatbot(query):\n",
    "    return qa_chain.run(query)\n",
    "\n",
    "# Example Usage\n",
    "if __name__ == \"__main__\":\n",
    "    user_query = \"Any advice on coconut fruit drop?\"\n",
    "    print(chatbot(user_query))\n"
   ]
  },
  {
   "cell_type": "code",
   "execution_count": null,
   "metadata": {},
   "outputs": [
    {
     "ename": "ValueError",
     "evalue": "Unknown evaluator type: retrieval\nValid types are: [<EvaluatorType.QA: 'qa'>, <EvaluatorType.COT_QA: 'cot_qa'>, <EvaluatorType.CONTEXT_QA: 'context_qa'>, <EvaluatorType.PAIRWISE_STRING: 'pairwise_string'>, <EvaluatorType.SCORE_STRING: 'score_string'>, <EvaluatorType.LABELED_PAIRWISE_STRING: 'labeled_pairwise_string'>, <EvaluatorType.LABELED_SCORE_STRING: 'labeled_score_string'>, <EvaluatorType.AGENT_TRAJECTORY: 'trajectory'>, <EvaluatorType.CRITERIA: 'criteria'>, <EvaluatorType.LABELED_CRITERIA: 'labeled_criteria'>, <EvaluatorType.STRING_DISTANCE: 'string_distance'>, <EvaluatorType.PAIRWISE_STRING_DISTANCE: 'pairwise_string_distance'>, <EvaluatorType.EMBEDDING_DISTANCE: 'embedding_distance'>, <EvaluatorType.PAIRWISE_EMBEDDING_DISTANCE: 'pairwise_embedding_distance'>, <EvaluatorType.JSON_VALIDITY: 'json_validity'>, <EvaluatorType.JSON_EQUALITY: 'json_equality'>, <EvaluatorType.JSON_EDIT_DISTANCE: 'json_edit_distance'>, <EvaluatorType.JSON_SCHEMA_VALIDATION: 'json_schema_validation'>, <EvaluatorType.REGEX_MATCH: 'regex_match'>, <EvaluatorType.EXACT_MATCH: 'exact_match'>]",
     "output_type": "error",
     "traceback": [
      "\u001b[1;31m---------------------------------------------------------------------------\u001b[0m",
      "\u001b[1;31mValueError\u001b[0m                                Traceback (most recent call last)",
      "Cell \u001b[1;32mIn[3], line 4\u001b[0m\n\u001b[0;32m      1\u001b[0m \u001b[38;5;66;03m# new\u001b[39;00m\n\u001b[0;32m      2\u001b[0m \u001b[38;5;28;01mfrom\u001b[39;00m \u001b[38;5;21;01mlangchain\u001b[39;00m\u001b[38;5;21;01m.\u001b[39;00m\u001b[38;5;21;01mevaluation\u001b[39;00m \u001b[38;5;28;01mimport\u001b[39;00m load_evaluator\n\u001b[1;32m----> 4\u001b[0m evaluator \u001b[38;5;241m=\u001b[39m \u001b[43mload_evaluator\u001b[49m\u001b[43m(\u001b[49m\u001b[38;5;124;43m\"\u001b[39;49m\u001b[38;5;124;43mretrieval\u001b[39;49m\u001b[38;5;124;43m\"\u001b[39;49m\u001b[43m,\u001b[49m\u001b[43m \u001b[49m\u001b[43mk\u001b[49m\u001b[38;5;241;43m=\u001b[39;49m\u001b[38;5;241;43m5\u001b[39;49m\u001b[43m)\u001b[49m\n\u001b[0;32m      5\u001b[0m retrieval_score \u001b[38;5;241m=\u001b[39m evaluator\u001b[38;5;241m.\u001b[39mevaluate(\n\u001b[0;32m      6\u001b[0m     predictions\u001b[38;5;241m=\u001b[39m[d\u001b[38;5;241m.\u001b[39mpage_content \u001b[38;5;28;01mfor\u001b[39;00m d \u001b[38;5;129;01min\u001b[39;00m documents], \n\u001b[0;32m      7\u001b[0m     references\u001b[38;5;241m=\u001b[39m[d\u001b[38;5;241m.\u001b[39mpage_content \u001b[38;5;28;01mfor\u001b[39;00m d \u001b[38;5;129;01min\u001b[39;00m split_docs]\n\u001b[0;32m      8\u001b[0m )\n\u001b[0;32m      9\u001b[0m \u001b[38;5;28mprint\u001b[39m(\u001b[38;5;124m\"\u001b[39m\u001b[38;5;124mRetrieval Score:\u001b[39m\u001b[38;5;124m\"\u001b[39m, retrieval_score)\n",
      "File \u001b[1;32m~\\AppData\\Local\\Packages\\PythonSoftwareFoundation.Python.3.10_qbz5n2kfra8p0\\LocalCache\\local-packages\\Python310\\site-packages\\langchain\\evaluation\\loading.py:127\u001b[0m, in \u001b[0;36mload_evaluator\u001b[1;34m(evaluator, llm, **kwargs)\u001b[0m\n\u001b[0;32m    105\u001b[0m \u001b[38;5;250m\u001b[39m\u001b[38;5;124;03m\"\"\"Load the requested evaluation chain specified by a string.\u001b[39;00m\n\u001b[0;32m    106\u001b[0m \n\u001b[0;32m    107\u001b[0m \u001b[38;5;124;03mParameters\u001b[39;00m\n\u001b[1;32m   (...)\u001b[0m\n\u001b[0;32m    124\u001b[0m \u001b[38;5;124;03m>>> evaluator = load_evaluator(EvaluatorType.QA)\u001b[39;00m\n\u001b[0;32m    125\u001b[0m \u001b[38;5;124;03m\"\"\"\u001b[39;00m\n\u001b[0;32m    126\u001b[0m \u001b[38;5;28;01mif\u001b[39;00m evaluator \u001b[38;5;129;01mnot\u001b[39;00m \u001b[38;5;129;01min\u001b[39;00m _EVALUATOR_MAP:\n\u001b[1;32m--> 127\u001b[0m     \u001b[38;5;28;01mraise\u001b[39;00m \u001b[38;5;167;01mValueError\u001b[39;00m(\n\u001b[0;32m    128\u001b[0m         \u001b[38;5;124mf\u001b[39m\u001b[38;5;124m\"\u001b[39m\u001b[38;5;124mUnknown evaluator type: \u001b[39m\u001b[38;5;132;01m{\u001b[39;00mevaluator\u001b[38;5;132;01m}\u001b[39;00m\u001b[38;5;124m\"\u001b[39m\n\u001b[0;32m    129\u001b[0m         \u001b[38;5;124mf\u001b[39m\u001b[38;5;124m\"\u001b[39m\u001b[38;5;130;01m\\n\u001b[39;00m\u001b[38;5;124mValid types are: \u001b[39m\u001b[38;5;132;01m{\u001b[39;00m\u001b[38;5;28mlist\u001b[39m(_EVALUATOR_MAP\u001b[38;5;241m.\u001b[39mkeys())\u001b[38;5;132;01m}\u001b[39;00m\u001b[38;5;124m\"\u001b[39m\n\u001b[0;32m    130\u001b[0m     )\n\u001b[0;32m    131\u001b[0m evaluator_cls \u001b[38;5;241m=\u001b[39m _EVALUATOR_MAP[evaluator]\n\u001b[0;32m    132\u001b[0m \u001b[38;5;28;01mif\u001b[39;00m \u001b[38;5;28missubclass\u001b[39m(evaluator_cls, LLMEvalChain):\n",
      "\u001b[1;31mValueError\u001b[0m: Unknown evaluator type: retrieval\nValid types are: [<EvaluatorType.QA: 'qa'>, <EvaluatorType.COT_QA: 'cot_qa'>, <EvaluatorType.CONTEXT_QA: 'context_qa'>, <EvaluatorType.PAIRWISE_STRING: 'pairwise_string'>, <EvaluatorType.SCORE_STRING: 'score_string'>, <EvaluatorType.LABELED_PAIRWISE_STRING: 'labeled_pairwise_string'>, <EvaluatorType.LABELED_SCORE_STRING: 'labeled_score_string'>, <EvaluatorType.AGENT_TRAJECTORY: 'trajectory'>, <EvaluatorType.CRITERIA: 'criteria'>, <EvaluatorType.LABELED_CRITERIA: 'labeled_criteria'>, <EvaluatorType.STRING_DISTANCE: 'string_distance'>, <EvaluatorType.PAIRWISE_STRING_DISTANCE: 'pairwise_string_distance'>, <EvaluatorType.EMBEDDING_DISTANCE: 'embedding_distance'>, <EvaluatorType.PAIRWISE_EMBEDDING_DISTANCE: 'pairwise_embedding_distance'>, <EvaluatorType.JSON_VALIDITY: 'json_validity'>, <EvaluatorType.JSON_EQUALITY: 'json_equality'>, <EvaluatorType.JSON_EDIT_DISTANCE: 'json_edit_distance'>, <EvaluatorType.JSON_SCHEMA_VALIDATION: 'json_schema_validation'>, <EvaluatorType.REGEX_MATCH: 'regex_match'>, <EvaluatorType.EXACT_MATCH: 'exact_match'>]"
     ]
    }
   ],
   "source": [
    "# new\n",
    "# from langchain.evaluation import load_evaluator\n",
    "\n",
    "# evaluator = load_evaluator(\"retrieval\", k=5)\n",
    "# retrieval_score = evaluator.evaluate(\n",
    "#     predictions=[d.page_content for d in documents], \n",
    "#     references=[d.page_content for d in split_docs]\n",
    "# )\n",
    "# print(\"Retrieval Score:\", retrieval_score)\n"
   ]
  },
  {
   "cell_type": "code",
   "execution_count": 8,
   "metadata": {},
   "outputs": [
    {
     "name": "stdout",
     "output_type": "stream",
     "text": [
      "<think>\n",
      "Okay, so I need to figure out how to help someone who's having issues with their coconut trees dropping fruit prematurely. I remember reading that there are a few reasons why this might happen, like not enough nutrients, pests, diseases, or maybe the weather isn't right. \n",
      "\n",
      "First, I think about what the user is asking. They want advice on stopping the fruit from falling too early. I recall that boron deficiency is a common issue in coconut trees. So maybe suggesting a boron fertilizer would help. I think the amount was around 50 grams per tree. That makes sense because boron is important for plant health and can prevent such problems.\n",
      "\n",
      "Another thing I remember is using borax with cow dung. I think the quantity was 25 grams of borax mixed with some cow dung. Applying that around the base of the tree might provide the necessary nutrients and improve the soil condition, which in turn could reduce the fruit drop.\n",
      "\n",
      "I should also consider other factors like making sure the trees have enough water, especially when they're young. Maybe checking for pests or diseases would be a good idea too. If the trees are getting enough nutrients and are healthy, they should hold onto their fruit better.\n",
      "\n",
      "So, putting it all together, I can suggest applying boron fertilizer and the borax-cow dung mixture. Also, ensuring proper care like watering and checking for pests could be helpful. I should present this in a clear, step-by-step manner so the user can easily follow the advice.\n",
      "</think>\n",
      "\n",
      "To address the issue of premature fruit drop in coconut trees, consider the following organized approach:\n",
      "\n",
      "1. **Nutrient Supplementation:**\n",
      "   - **Boron Fertilizer:** Apply 50 grams of boron fertilizer per tree. Boron is crucial for plant health and can help reduce fruit drop.\n",
      "   - **Borax and Cow Dung Mixture:** Sprinkle 25 grams of borax mixed with cow dung around the base of each tree. This provides essential nutrients and improves soil condition.\n",
      "\n",
      "2. **Environmental Care:**\n",
      "   - Ensure trees receive adequate water, especially during their younger stages.\n",
      "   - Check for and manage any pest or disease issues promptly to maintain tree health.\n",
      "\n",
      "By following these steps, you can help reduce premature fruit drop and promote healthier coconut trees.\n"
     ]
    }
   ],
   "source": [
    "llm = ChatGroq(model_name=\"deepseek-r1-distill-llama-70b\", api_key=groq_api_key)\n",
    "\n",
    "# RetrievalQA Chain\n",
    "qa_chain = RetrievalQA.from_chain_type(\n",
    "    llm=llm,\n",
    "    chain_type=\"stuff\",\n",
    "    retriever=vectorstore.as_retriever(search_type=\"similarity\", search_kwargs={\"k\": 5})\n",
    ")\n",
    "\n",
    "# Chatbot Function\n",
    "def chatbot(query):\n",
    "    return qa_chain.run(query)\n",
    "\n",
    "# Example Usage\n",
    "if __name__ == \"__main__\":\n",
    "    user_query = \"Any advice on coconut fruit drop?\"\n",
    "    print(chatbot(user_query))\n"
   ]
  },
  {
   "cell_type": "code",
   "execution_count": 13,
   "metadata": {},
   "outputs": [
    {
     "name": "stdout",
     "output_type": "stream",
     "text": [
      "To control rice borers, consider implementing the following strategies:\n",
      "\n",
      "1. **Chemical Control**: Use specific pesticides like Classic 20. As an example, mix 2 ml of Classic 20 with a liter of water and spray it on the infested areas. This pesticide should help in killing the rice borers.\n",
      "\n",
      "2. **Hygiene and Cleanliness**: Keep the growing environment clean by removing weeds and crop residues that can serve as breeding grounds for borers.\n",
      "\n",
      "3. **Proper Irrigation and Fertilization**: Maintain the health of the rice plants by ensuring they receive adequate water and nutrients. Healthy plants are more resistant to pest attacks.\n",
      "\n",
      "4. **Crop Management Practices**: Implement crop rotation and intercropping to reduce borer populations and minimize the chances of infestation.\n",
      "\n",
      "By following these methods, you can effectively manage and reduce the impact of rice borers on your rice crop.\n"
     ]
    }
   ],
   "source": [
    "llm = ChatGroq(model_name=\"qwen-2.5-32b\", api_key=groq_api_key)\n",
    "\n",
    "# RetrievalQA Chain\n",
    "qa_chain = RetrievalQA.from_chain_type(\n",
    "    llm=llm,\n",
    "    chain_type=\"stuff\",\n",
    "    retriever=vectorstore.as_retriever(search_type=\"similarity\", search_kwargs={\"k\": 5})\n",
    ")\n",
    "\n",
    "# Chatbot Function\n",
    "def chatbot(query):\n",
    "    return qa_chain.run(query)\n",
    "\n",
    "# Example Usage\n",
    "if __name__ == \"__main__\":\n",
    "    user_query = \"How to control rice borer\"\n",
    "    print(chatbot(user_query))\n"
   ]
  },
  {
   "cell_type": "code",
   "execution_count": 10,
   "metadata": {},
   "outputs": [
    {
     "name": "stdout",
     "output_type": "stream",
     "text": [
      "Here is some advice on coconut fruit drop: \n",
      "\n",
      "Coconut fruit drop may be caused by a variety of reasons, including nutritional deficiencies, pests and diseases, unsuitable climatic conditions, etc. To reduce fruit drop, it is recommended that you take the following measures:\n",
      "1. Apply boron fertilizer: Applying 50 grams of boron fertilizer to each coconut tree can help improve fruit quality and reduce falling. \n",
      "\n",
      "If your coconut palm fruit is falling prematurely, you may consider the following measures:\n",
      "Apply 25 grams of borax and cow dung to each coconut tree: Sprinkle 25 grams of borax and an appropriate amount of cow dung around the trunk of each coconut tree, which will help reduce fruit falling. \n",
      "\n",
      "\n"
     ]
    }
   ],
   "source": [
    "llm = ChatGroq(model_name=\"gemma2-9b-it\", api_key=groq_api_key)\n",
    "\n",
    "# RetrievalQA Chain\n",
    "qa_chain = RetrievalQA.from_chain_type(\n",
    "    llm=llm,\n",
    "    chain_type=\"stuff\",\n",
    "    retriever=vectorstore.as_retriever(search_type=\"similarity\", search_kwargs={\"k\": 5})\n",
    ")\n",
    "\n",
    "# Chatbot Function\n",
    "def chatbot(query):\n",
    "    return qa_chain.run(query)\n",
    "\n",
    "# Example Usage\n",
    "if __name__ == \"__main__\":\n",
    "    user_query = \"Any advice on coconut fruit drop?\"\n",
    "    print(chatbot(user_query))\n"
   ]
  },
  {
   "cell_type": "code",
   "execution_count": 11,
   "metadata": {},
   "outputs": [
    {
     "name": "stdout",
     "output_type": "stream",
     "text": [
      "If fruit is falling prematurely from coconut trees, you can try applying boron fertilizer and cow dung to each tree. Specifically, you can apply 50 grams of boron fertilizer and an appropriate amount of cow dung to each tree. Additionally, sprinkling 25 grams of borax around the trunk of each tree may also help reduce fruit falling. These measures can help improve fruit quality and reduce premature fruit drop, resulting in increased yield and quality of coconuts.\n"
     ]
    }
   ],
   "source": [
    "llm = ChatGroq(model_name=\"mixtral-8x7b-32768\", api_key=groq_api_key)\n",
    "\n",
    "# RetrievalQA Chain\n",
    "qa_chain = RetrievalQA.from_chain_type(\n",
    "    llm=llm,\n",
    "    chain_type=\"stuff\",\n",
    "    retriever=vectorstore.as_retriever(search_type=\"similarity\", search_kwargs={\"k\": 5})\n",
    ")\n",
    "\n",
    "# Chatbot Function\n",
    "def chatbot(query):\n",
    "    return qa_chain.run(query)\n",
    "\n",
    "# Example Usage\n",
    "if __name__ == \"__main__\":\n",
    "    user_query = \"Any advice on coconut fruit drop?\"\n",
    "    print(chatbot(user_query))\n"
   ]
  }
 ],
 "metadata": {
  "kernelspec": {
   "display_name": "Python 3",
   "language": "python",
   "name": "python3"
  },
  "language_info": {
   "codemirror_mode": {
    "name": "ipython",
    "version": 3
   },
   "file_extension": ".py",
   "mimetype": "text/x-python",
   "name": "python",
   "nbconvert_exporter": "python",
   "pygments_lexer": "ipython3",
   "version": "3.10.11"
  }
 },
 "nbformat": 4,
 "nbformat_minor": 2
}
